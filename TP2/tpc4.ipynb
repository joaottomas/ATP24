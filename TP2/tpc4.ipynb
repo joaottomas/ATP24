{
 "cells": [
  {
   "cell_type": "code",
   "execution_count": 4,
   "metadata": {},
   "outputs": [
    {
     "name": "stdout",
     "output_type": "stream",
     "text": [
      "Escolha um modo de jogo:\n",
      "1. Você pensa num número e o computador tenta adivinhar\n",
      "2. Computador pensa num número e você tenta adivinhar\n",
      "O número que escolheu é 50\n",
      "O número que escolheu é 24\n",
      "O número que escolheu é 11\n",
      "O número que escolheu é 17\n",
      "O número que escolheu é 14\n",
      "O número que escolheu é 12\n",
      "O número que escolheu é 13\n",
      "O computador acertou!! O número era 13 e usou 7 tentativas!\n"
     ]
    }
   ],
   "source": [
    "import random\n",
    "\n",
    "def computador_advinha():\n",
    "    maximo = 100\n",
    "    minimo = 0\n",
    "    tentativas = 0\n",
    "    dica = \"\"\n",
    "    while dica != \"acertou\":\n",
    "        tentativas = tentativas + 1\n",
    "        resposta = (maximo + minimo) // 2\n",
    "        print(f\"O número que escolheu é {resposta}\")\n",
    "        dica = input(\"Responda com 'acertou', 'maior' ou 'menor': \").strip().lower()\n",
    "        if dica == \"maior\":\n",
    "            minimo = resposta + 1\n",
    "        elif dica == \"menor\":\n",
    "            maximo = resposta - 1\n",
    "        elif dica == \"acertou\":\n",
    "            print(f\"O computador acertou!! O número era {resposta} e usou {tentativas} tentativas!\")\n",
    "        else:\n",
    "            print(\"Resposta inválida. Responda com 'acertou', 'maior' ou 'menor'.\")\n",
    "\n",
    "def jogador_advinha():\n",
    "    num = random.randint(1, 100)\n",
    "    tentativas = 0\n",
    "    while True:\n",
    "        resposta = int(input(\"Advinhe o número que eu pensei (entre 1 e 100): \"))\n",
    "        tentativas = tentativas + 1\n",
    "        if resposta > num:\n",
    "            print(\"O número que pensei é menor!!\")\n",
    "        elif resposta < num:\n",
    "            print(\"O número que pensei é maior!!\")\n",
    "        else:\n",
    "            print(f\"Parabéns! Acertou no número {num}!! Tentativas: {tentativas}\")\n",
    "\n",
    "\n",
    "def menu():\n",
    "    print(\"Escolha um modo de jogo:\")\n",
    "    print(\"1. Você pensa num número e o computador tenta adivinhar\")\n",
    "    print(\"2. Computador pensa num número e você tenta adivinhar\")\n",
    "    modo = input(\"Digite 1 ou 2: \").strip()\n",
    "    if modo == \"1\":\n",
    "        computador_advinha()\n",
    "    elif modo == \"2\":\n",
    "        jogador_advinha()\n",
    "    else:\n",
    "        print(\"Modo de jogo não encontrado....\")\n",
    "\n",
    "menu()\n"
   ]
  }
 ],
 "metadata": {
  "kernelspec": {
   "display_name": "Python 3",
   "language": "python",
   "name": "python3"
  },
  "language_info": {
   "codemirror_mode": {
    "name": "ipython",
    "version": 3
   },
   "file_extension": ".py",
   "mimetype": "text/x-python",
   "name": "python",
   "nbconvert_exporter": "python",
   "pygments_lexer": "ipython3",
   "version": "3.12.6"
  }
 },
 "nbformat": 4,
 "nbformat_minor": 2
}
