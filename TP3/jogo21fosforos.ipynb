{
 "cells": [
  {
   "cell_type": "code",
   "execution_count": 4,
   "metadata": {},
   "outputs": [
    {
     "name": "stdout",
     "output_type": "stream",
     "text": [
      "-----------------Menu-----------------\n",
      "Opção 1 - Você joga em primeiro lugar\n",
      "Opção 2 - O computador começa em primeiro lugar\n",
      "--------------------------------------\n",
      "Fósforos restantes: 21\n",
      "Você tirou 2 fósforos.\n",
      "Fósforos restantes: 19\n",
      "O computador tirou 3 fósforos.\n",
      "Fósforos restantes: 16\n",
      "Você tirou 4 fósforos.\n",
      "Fósforos restantes: 12\n",
      "O computador tirou 1 fósforos.\n",
      "Fósforos restantes: 11\n",
      "Você tirou 4 fósforos.\n",
      "Fósforos restantes: 7\n",
      "O computador tirou 1 fósforos.\n",
      "Fósforos restantes: 6\n",
      "Você tirou 4 fósforos.\n",
      "Fósforos restantes: 2\n",
      "O computador tirou 1 fósforos.\n",
      "Fósforos restantes: 1\n",
      "Você tirou 1 fósforos.\n",
      "Você tirou o último fósforo. Você perdeu!\n"
     ]
    }
   ],
   "source": [
    "import random\n",
    "\n",
    "def menu():\n",
    "    print(\"-----------------Menu-----------------\")\n",
    "    print(\"Opção 1 - Você joga em primeiro lugar\")\n",
    "    print(\"Opção 2 - O computador começa em primeiro lugar\")\n",
    "    print(\"--------------------------------------\")\n",
    "    return int(input(\"Escolha uma opção (1 ou 2): \"))\n",
    "\n",
    "def computadorvez(fosforos):\n",
    "    if fosforos == 1:\n",
    "        return 1\n",
    "    jogada = (fosforos - 1) % 5\n",
    "    if jogada == 0:\n",
    "        jogada = random.randint(1, 4)\n",
    "    return jogada\n",
    "\n",
    "def jogadorvez(fosforos):\n",
    "    while True:\n",
    "            jogada = int(input(\"Quantos fósforos você quer tirar? (1-4): \"))\n",
    "            if 1 <= jogada <= 4 and jogada <= fosforos:\n",
    "                return jogada\n",
    "            else:\n",
    "                print(f\"Jogada inválida. Você pode tirar entre 1 e 4 fósforos, e no máximo {fosforos} fósforos restantes.\")\n",
    "\n",
    "def jogo_21fosforos():\n",
    "    fosforos = 21\n",
    "    modo = menu()\n",
    "    if modo == 1:\n",
    "        turnojogador = True\n",
    "    elif modo == 2:\n",
    "        turnojogador = False\n",
    "    else:\n",
    "        print(\"Modo de jogo não encontrado\")\n",
    "        return\n",
    "    \n",
    "    while fosforos > 0:\n",
    "        print(f\"Fósforos restantes: {fosforos}\")\n",
    "\n",
    "        if turnojogador:\n",
    "            jogada = jogadorvez(fosforos)\n",
    "            fosforos = fosforos - jogada\n",
    "            print(f\"Você tirou {jogada} fósforos.\")\n",
    "            turnojogador = False\n",
    "            if fosforos == 0:\n",
    "                print(\"Você tirou o último fósforo. Você perdeu!\")\n",
    "                return\n",
    "        else:\n",
    "            jogada = computadorvez(fosforos)\n",
    "            fosforos = fosforos - jogada\n",
    "            print(f\"O computador tirou {jogada} fósforos.\")\n",
    "            turnojogador = True\n",
    "            if fosforos == 0:\n",
    "                print(\"Computador tirou o último fósforo. Computador perdeu!\")\n",
    "                return\n",
    "jogo_21fosforos()"
   ]
  }
 ],
 "metadata": {
  "kernelspec": {
   "display_name": "Python 3",
   "language": "python",
   "name": "python3"
  },
  "language_info": {
   "codemirror_mode": {
    "name": "ipython",
    "version": 3
   },
   "file_extension": ".py",
   "mimetype": "text/x-python",
   "name": "python",
   "nbconvert_exporter": "python",
   "pygments_lexer": "ipython3",
   "version": "3.12.6"
  }
 },
 "nbformat": 4,
 "nbformat_minor": 2
}
